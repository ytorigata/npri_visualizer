{
 "cells": [
  {
   "cell_type": "markdown",
   "id": "8600f56a-0af3-4fa5-b0d1-f8c242709cb5",
   "metadata": {},
   "source": [
    "# Data Cleaning\n",
    "\n",
    "This notebook will clean the raw releases/disposals/disposals-transfer CSV files and will save them for analysis."
   ]
  },
  {
   "cell_type": "code",
   "execution_count": null,
   "id": "29d9bbcc-7f0a-4c5e-b98b-13726ff7b693",
   "metadata": {},
   "outputs": [],
   "source": [
    "import sys\n",
    "from pathlib import Path\n",
    "\n",
    "# Add project root manually\n",
    "project_root = Path.cwd().parents[0]\n",
    "if str(project_root) not in sys.path:\n",
    "    sys.path.insert(0, str(project_root))\n",
    "\n",
    "import numpy as np\n",
    "import pandas as pd\n",
    "\n",
    "from src.config import *\n",
    "from src.file_util import *"
   ]
  },
  {
   "cell_type": "code",
   "execution_count": null,
   "id": "27b294d2-20f0-4b17-93a3-550ac9f19b8e",
   "metadata": {},
   "outputs": [],
   "source": [
    "ensure_directory_exists(PROCESSED_DIR)\n"
   ]
  },
  {
   "cell_type": "markdown",
   "id": "49aa1cfe-b29d-40f1-964f-ea0f5b61026a",
   "metadata": {},
   "source": [
    "## Load Geolocation Data"
   ]
  },
  {
   "cell_type": "code",
   "execution_count": null,
   "id": "41ccffc5-3b64-4c76-9951-f36d2300ac45",
   "metadata": {},
   "outputs": [],
   "source": [
    "geo_raw_file_path = str(RAW_DIR) + '/' + get_filename_from_url(DATA_URLS['geolocation'])\n",
    "geo_raw_df = pd.read_csv(geo_raw_file_path, encoding='ISO-8859-1', low_memory=False)\n",
    "\n",
    "geo_renames = {\n",
    "    'Year of last filed report / Année de déclaration la plus récente': 'last_report_year',\n",
    "    'NPRI ID / ID INRP': 'npri_id',\n",
    "    'Company Name / Raison Sociale': 'company_name',\n",
    "    'Facility Name / Nom de l\\'installation': 'facility_name',\n",
    "    'Address line 1 / Première ligne dadresse': 'address_line_1',\n",
    "    'Address line 2 / Deuxième ligne dadresse': 'address_line_2',\n",
    "    'City / Ville': 'city',\n",
    "    'Province / Province': 'province',\n",
    "    'Postal Code / Code postal': 'postal_code',\n",
    "    'Physical Land Survey Description / Description de l\\'arpentage': 'land_survey_description',\n",
    "    'National Topographical Description / Description topographique nationale': 'topographical_description',\n",
    "    'Latitude / Latitude': 'latitude',\n",
    "    'Longitude / Longitude': 'longitude',\n",
    "    'Datum / Datum': 'datum',\n",
    "    'NAICS / Code SCIAN': 'naics_code',\n",
    "    'Key Industrial Sector Code / Code des Secteurs industriels clés': 'key_industrial_sector_code',\n",
    "    'Key Industrial Sector (English) / Secteurs industriels clés (Anglais)': 'key_industrial_sector_en',\n",
    "    'Key Industrial Sector (French) / Secteurs industriels clés (Français)': 'key_industrial_sector_fr',\n",
    "    'Census Division (CD) Unique ID / No unique de la Division de recensement (DR)': 'census_division_id',\n",
    "    'Census Division (CD) Name / Nom de la Division de recensement (DR)': 'census_division_name',\n",
    "    'Census Sub Division (CSD) Unique ID / No unique de la Subdivision de recensement (SDR)': 'census_subdivision_id',\n",
    "    'Census Sub Division (CSD) Name / Nom de la Subdivision de recensement (SDR)': 'census_subdivision_name',\n",
    "    'Census Metropolitan Area (CMA) Unique ID / No unique de la Région métropolitaine de recensement (RMR)': 'cma_id',\n",
    "    'Census Metropolitan Area (CMA) Name / Nom de la Région métropolitaine de recensement (RMR)': 'cma_name',\n",
    "    'Economic Region (ER) Unique ID / No unique de la Région économique (RE)': 'economic_region_id',\n",
    "    'Economic Region (ER) Name / Nom de la Région économique (RE)': 'economic_region_name',\n",
    "    'Forward Sortation Area (FSA) / Région de tri d\\'acheminement (RTA)': 'fsa',\n",
    "    'Ecozone Unique ID / No unique de lécozone': 'ecozone_id',\n",
    "    'English Ecozone Name / Nom anglais de lécozone': 'ecozone_name_en',\n",
    "    'French Ecozone Name / Nom français de lécozone': 'ecozone_name_fr',\n",
    "    'Unique ID of the Major Drainage Area from the Water Survey of Canada (WSC) / No unique de laire de drainage principale des Relevés hydrologiques du Canada (RHC)': 'major_drainage_area_id',\n",
    "    'Major Drainage Area English Name / Nom anglais de laire de drainage principale': 'major_drainage_area_name_en',\n",
    "    'Major Drainage Area French Name / Nom français de laire de drainage principale': 'major_drainage_area_name_fr',\n",
    "    'Sulphur Oxide Management Area (SOMA) / Zone de gestion des oxydes de soufre (ZGOS)': 'soma_zone',\n",
    "    'Ontario Pollution Emission Management Area (PEMA) / Zone de gestion des émission de polluants (ZGEP) de l\\'Ontario': 'ontario_pema_zone',\n",
    "    'Quebec Pollution Emission Management Area (PEMA) / Zone de gestion des émission de polluants (ZGEP) du Québec': 'quebec_pema_zone',\n",
    "    'Quebec City-Windsor Corridor / Corridor Québec-Windsor': 'qc_windsor_corridor',\n",
    "}\n",
    "\n",
    "geo_raw_df.rename(columns=geo_renames, inplace=True)\n",
    "\n",
    "\n",
    "# Convert to numeric and coerce invalid entries (e.g., empty strings) to NaN\n",
    "geo_raw_df['Latitude'] = pd.to_numeric(geo_raw_df['latitude'], errors='coerce')\n",
    "geo_raw_df['Longitude'] = pd.to_numeric(geo_raw_df['longitude'], errors='coerce')\n",
    "\n",
    "# Drop rows with NaN or non-finite values\n",
    "geo_df_clean = geo_raw_df[np.isfinite(geo_raw_df['latitude']) & np.isfinite(geo_raw_df['longitude'])].copy()\n",
    "\n",
    "print('before dropping NaN: ', len(geo_raw_df), ', after: ', len(geo_df_clean))\n",
    "\n",
    "geo_df_clean.to_csv(str(PROCESSED_DIR) + '/geolocation.csv', index=False)\n",
    "\n",
    "display(geo_df_clean.head(3))\n",
    "display(geo_df_clean.tail(3))"
   ]
  },
  {
   "cell_type": "markdown",
   "id": "21e5599b-4af0-4164-a891-4b25acaba653",
   "metadata": {},
   "source": [
    "## Loading Releases Data"
   ]
  },
  {
   "cell_type": "code",
   "execution_count": null,
   "id": "b2dfa7e2-75d0-48b4-85e3-66a1da49c129",
   "metadata": {},
   "outputs": [],
   "source": [
    "releases_raw_file_path = str(RAW_DIR) + '/' + get_filename_from_url(DATA_URLS['releases'])\n",
    "releases_df = pd.read_csv(releases_raw_file_path, encoding='ISO-8859-1', low_memory=False)\n",
    "\n",
    "column_renames = {\n",
    "    'Reporting_Year / Année': 'reporting_year',\n",
    "    'NPRI_ID / No_INRP': 'npri_id',\n",
    "    \"Company_Name / Dénomination_sociale_de_l'entreprise\": 'company_name',\n",
    "    'Facility_Name / Installation': 'facility_name',\n",
    "    'NAICS / Code_SCIAN': 'naics_code',\n",
    "    'NAICS Title EN / Titre Code SCIAN EN': 'naics_title_en',\n",
    "    'NAICS Title FR / Titre Code SCIAN FR': 'naics_title_fr',\n",
    "    'PROVINCE': 'province',\n",
    "    'CAS_Number / No_CAS': 'cas_number',\n",
    "    'Substance Name (English) / Nom de substance (Anglais)': 'substance_name_en',\n",
    "    'Substance Name (French) / Nom de substance (Français)': 'substance_name_fr',\n",
    "    'Group (English) / Groupe (Anglais)': 'group_en',\n",
    "    'Group (French) / Groupe (Français)': 'group_fr',\n",
    "    'Category (English) / Catégorie (Anglais)': 'category_en',\n",
    "    'Category (French) / Catégorie (Français)': 'category_fr',\n",
    "    'Quantity / Quantité': 'quantity',\n",
    "    'Units / Unités': 'units',\n",
    "    'Estimation_Method / Méthode_destimation': 'estimation_method',\n",
    "}\n",
    "\n",
    "releases_df.rename(columns=column_renames, inplace=True)\n",
    "\n",
    "releases_df.to_csv(str(PROCESSED_DIR) + '/releases.csv', index=False)\n",
    "\n",
    "display(releases_df.head(3))\n",
    "display(releases_df.tail(3))\n"
   ]
  },
  {
   "cell_type": "markdown",
   "id": "311f9c39-d625-490c-8408-cedcf6fb5d0c",
   "metadata": {},
   "source": [
    "## Loading Disposals Data"
   ]
  },
  {
   "cell_type": "code",
   "execution_count": null,
   "id": "e3240d5d-d4c8-4c8b-8dd3-b35cc3765f13",
   "metadata": {
    "scrolled": true
   },
   "outputs": [],
   "source": [
    "disposals_raw_file_path = str(RAW_DIR) + '/' + get_filename_from_url(DATA_URLS['disposals'])\n",
    "disposals_df = pd.read_csv(disposals_raw_file_path, encoding='ISO-8859-1', low_memory=False)\n",
    "\n",
    "disposals_df.rename(columns=column_renames, inplace=True)\n",
    "\n",
    "disposals_df.to_csv(str(PROCESSED_DIR) + '/disposals.csv', index=False)\n",
    "\n",
    "display(disposals_df.head(3))\n",
    "display(disposals_df.tail(3))\n"
   ]
  },
  {
   "cell_type": "markdown",
   "id": "31aa7e56-2981-4fe9-8fa6-b4144cea0023",
   "metadata": {},
   "source": [
    "## Loading Transfers Data"
   ]
  },
  {
   "cell_type": "code",
   "execution_count": null,
   "id": "38240ea0-87a2-4123-ad1d-dacb3e47188d",
   "metadata": {},
   "outputs": [],
   "source": [
    "transfers_file_path = str(RAW_DIR) + '/' + get_filename_from_url(DATA_URLS['transfers'])\n",
    "transfers_df = pd.read_csv(transfers_file_path, encoding='ISO-8859-1', low_memory=False)\n",
    "\n",
    "transfers_df.rename(columns=column_renames, inplace=True)\n",
    "\n",
    "transfers_df.to_csv(str(PROCESSED_DIR) + '/transfers.csv', index=False)\n",
    "\n",
    "display(transfers_df.head(3))\n",
    "display(transfers_df.tail(3))\n"
   ]
  }
 ],
 "metadata": {
  "kernelspec": {
   "display_name": "Python 3 (ipykernel)",
   "language": "python",
   "name": "python3"
  },
  "language_info": {
   "codemirror_mode": {
    "name": "ipython",
    "version": 3
   },
   "file_extension": ".py",
   "mimetype": "text/x-python",
   "name": "python",
   "nbconvert_exporter": "python",
   "pygments_lexer": "ipython3",
   "version": "3.11.8"
  }
 },
 "nbformat": 4,
 "nbformat_minor": 5
}

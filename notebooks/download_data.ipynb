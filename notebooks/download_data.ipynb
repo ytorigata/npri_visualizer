{
 "cells": [
  {
   "cell_type": "markdown",
   "id": "87e49f57-8345-49c8-a19c-81adcc7a61c7",
   "metadata": {},
   "source": [
    "# Download NPRI CSV Files\n",
    "\n",
    "This notebook will download these four CSV files:\n",
    "\n",
    "- NPRI-INRP_DisposalsEliminations_TransfersTransferts_1993-present.csv\n",
    "- NPRI-INRP_ReleasesRejets_1993-present.csv\n",
    "- NPRI-INRP_DisposalsEliminations_1993-present.csv\n",
    "- NPRI-INRP_DisposalsEliminations_TransfersTransferts_1993-present.csv\n",
    "\n",
    "The files are accessible through https://open.canada.ca/data/en/dataset/40e01423-7728-429c-ac9d-2954385ccdfb."
   ]
  },
  {
   "cell_type": "code",
   "execution_count": null,
   "id": "1488a5e7-8b2b-434d-b904-e85b776d8fed",
   "metadata": {},
   "outputs": [],
   "source": [
    "import sys\n",
    "from pathlib import Path\n",
    "\n",
    "# Add project root manually\n",
    "project_root = Path.cwd().parents[0]\n",
    "if str(project_root) not in sys.path:\n",
    "    sys.path.insert(0, str(project_root))\n",
    "\n",
    "from src.file_util import *"
   ]
  },
  {
   "cell_type": "code",
   "execution_count": null,
   "id": "e988e203-4cc0-4cfb-826e-f7868d59344a",
   "metadata": {},
   "outputs": [],
   "source": [
    "download_dataset()\n"
   ]
  }
 ],
 "metadata": {
  "kernelspec": {
   "display_name": "Python 3 (ipykernel)",
   "language": "python",
   "name": "python3"
  },
  "language_info": {
   "codemirror_mode": {
    "name": "ipython",
    "version": 3
   },
   "file_extension": ".py",
   "mimetype": "text/x-python",
   "name": "python",
   "nbconvert_exporter": "python",
   "pygments_lexer": "ipython3",
   "version": "3.11.8"
  }
 },
 "nbformat": 4,
 "nbformat_minor": 5
}
